{
  "nbformat": 4,
  "nbformat_minor": 0,
  "metadata": {
    "colab": {
      "provenance": [],
      "authorship_tag": "ABX9TyPRVX1WUneWBFQdORF+iJUX"
    },
    "kernelspec": {
      "name": "python3",
      "display_name": "Python 3"
    },
    "language_info": {
      "name": "python"
    }
  },
  "cells": [
    {
      "cell_type": "code",
      "execution_count": null,
      "metadata": {
        "id": "wovv5CWHPuLd"
      },
      "outputs": [],
      "source": [
        "import pandas as pd\n",
        "import numpy as np\n",
        "import ast\n",
        "from sklearn.model_selection import train_test_split\n",
        "from tensorflow.keras.preprocessing.text import Tokenizer\n",
        "from tensorflow.keras.preprocessing.sequence import pad_sequences\n",
        "from tensorflow.keras.models import Sequential\n",
        "from tensorflow.keras.layers import Embedding, LSTM, Dense, GlobalAveragePooling1D, Dropout\n",
        "from sklearn.preprocessing import LabelEncoder"
      ]
    },
    {
      "cell_type": "code",
      "source": [
        "df = pd.read_csv('recipes_v210k.csv')#тут нужен большой и подготовленный датасет, не было времени, использовал первый попавшийся, отредактировал более менее\n",
        "pd.set_option('display.max_columns', None)\n",
        "\n",
        "# Меняю название столбца\n",
        "df.rename(columns={'ingredients;': 'ingredients'}, inplace=True)\n",
        "\n",
        "# Удаляем ненужное и пустые строки\n",
        "df['url'] = df['url'].str.replace('версия для печати\"','').str.replace('Рецепты', '').str.replace('>', '').str.strip()\n",
        "df.dropna(subset=['url'], inplace=True)\n",
        "\n",
        "# тут перекидываю параметры в соответствующие столбцы\n",
        "df['temp'] = df['url'].str.split(',', n = 1).str[1]\n",
        "\n",
        "df[['name', 'ingredients']] = df['temp'].str.split(',',n = 1, expand=True)\n",
        "\n",
        "df['name'] = df['name'].str.strip()\n",
        "df['ingredients'] = df['ingredients'].str.strip()\n",
        "\n",
        "import re\n",
        "import pickle\n",
        "\n",
        "# Извлечение ссылок из столбца 'url'\n",
        "df['url'] = df['url'].str.split(',', n=1).str[0]\n",
        "df['url'] = df['url'].str.strip()\n",
        "\n",
        "df.drop('temp', axis=1, inplace=True)\n",
        "\n",
        "#проверка\n",
        "#print(df.head())\n",
        "# Заполнение пропущенных значений пустыми строками\n",
        "df['ingredients'] = df['ingredients'].fillna('')\n",
        "def clean_ingredients(ingredient_str):\n",
        "    # Remove the outer quotes if they exist\n",
        "    ingredient_str = ingredient_str.strip('\"')\n",
        "\n",
        "    # Parse the dictionary\n",
        "    try:\n",
        "        ingredient_dict = ast.literal_eval(ingredient_str)\n",
        "    except (SyntaxError, ValueError):\n",
        "        return ''\n",
        "\n",
        "    # Ensure the parsed object is a dictionary\n",
        "    if not isinstance(ingredient_dict, dict):\n",
        "        return ''\n",
        "\n",
        "    # Extract keys (ingredient names)\n",
        "    ingredients = list(ingredient_dict.keys())\n",
        "\n",
        "    # Join ingredients into a single string separated by commas\n",
        "    clean_ingredients_str = ', '.join(ingredients)\n",
        "\n",
        "    return clean_ingredients_str\n",
        "\n",
        "df['ingredients'] = df['ingredients'].apply(clean_ingredients)\n",
        "\n",
        "print(df.head())\n",
        "# Удаление строк с пустыми или отсутствующими URL\n",
        "df = df[df['url'].notna() & (df['url'].str.strip() != '')]\n",
        "\n",
        "# Токенизация ингредиентов\n",
        "tokenizer = Tokenizer()\n",
        "tokenizer.fit_on_texts(df['ingredients'])\n",
        "\n",
        "with open('tokenizer.pkl', 'wb') as f:\n",
        "    pickle.dump(tokenizer, f)\n",
        "\n",
        "# Преобразование текста в последовательности\n",
        "ingredients_seq = tokenizer.texts_to_sequences(df['ingredients'])\n",
        "\n",
        "# Выравнивание последовательностей\n",
        "max_len_ingredients = max([len(seq) for seq in ingredients_seq])\n",
        "ingredients_seq = pad_sequences(ingredients_seq, maxlen=max_len_ingredients, padding='post')\n",
        "\n",
        "# Кодирование URL-адресов\n",
        "label_encoder = LabelEncoder()\n",
        "url_encoded = label_encoder.fit_transform(df['url'])\n",
        "\n",
        "with open('label_encoder.pkl', 'wb') as f:\n",
        "    pickle.dump(label_encoder, f)\n",
        "\n",
        "# Разделение на обучающую и тестовую выборки\n",
        "X_train, X_test, y_train, y_test = train_test_split(ingredients_seq, url_encoded, test_size=0.2, random_state=42)\n",
        "\n",
        "# Архитектура модели\n",
        "vocab_size = len(tokenizer.word_index) + 1\n",
        "embedding_dim = 128  # Увеличение размерности эмбеддингов для лучшего представления\n",
        "lstm_units = 256  # Увеличение количества LSTM-юнитов для лучшего обучения\n",
        "\n",
        "model = Sequential()\n",
        "model.add(Embedding(vocab_size, embedding_dim, input_length=max_len_ingredients))\n",
        "model.add(LSTM(lstm_units, return_sequences=True))\n",
        "model.add(Dropout(0.5))\n",
        "model.add(LSTM(lstm_units))\n",
        "model.add(Dropout(0.5))\n",
        "model.add(Dense(128, activation='relu'))\n",
        "model.add(Dropout(0.5))\n",
        "model.add(Dense(len(label_encoder.classes_), activation='softmax'))\n",
        "\n",
        "# Компиляция модели\n",
        "model.compile(optimizer='adam', loss='sparse_categorical_crossentropy', metrics=['accuracy'])\n"
      ],
      "metadata": {
        "id": "RW4NcsutYQye",
        "colab": {
          "base_uri": "https://localhost:8080/"
        },
        "outputId": "53f739cb-56e8-4243-a6b8-1bf8572a2190"
      },
      "execution_count": null,
      "outputs": [
        {
          "output_type": "stream",
          "name": "stdout",
          "text": [
            "                                             url  \\\n",
            "0  https://www.povarenok.ru/recipes/show/164365/   \n",
            "1  https://www.povarenok.ru/recipes/show/164365/   \n",
            "2  https://www.povarenok.ru/recipes/show/164365/   \n",
            "3  https://www.povarenok.ru/recipes/show/164365/   \n",
            "4  https://www.povarenok.ru/recipes/show/164365/   \n",
            "\n",
            "                                 name              ingredients  \n",
            "0  Густой молочно-клубничный коктейль  Молоко, Клубника, Сахар  \n",
            "1  Густой молочно-клубничный коктейль  Молоко, Клубника, Сахар  \n",
            "2  Густой молочно-клубничный коктейль  Молоко, Клубника, Сахар  \n",
            "3  Густой молочно-клубничный коктейль  Молоко, Клубника, Сахар  \n",
            "4  Густой молочно-клубничный коктейль  Молоко, Клубника, Сахар  \n"
          ]
        }
      ]
    },
    {
      "cell_type": "code",
      "source": [
        "# Обучение модели\n",
        "history = model.fit(X_train, y_train, epochs=20, batch_size=128, validation_split=0.2)  # Увеличение эпох и размера пакета\n",
        "\n",
        "# Функция для предсказания URL-адреса по ингредиентам\n",
        "def predict_recipe_url(ingredients):\n",
        "    ingredients_seq = tokenizer.texts_to_sequences([ingredients])\n",
        "    ingredients_seq = pad_sequences(ingredients_seq, maxlen=max_len_ingredients, padding='post')\n",
        "    prediction = model.predict(ingredients_seq)\n",
        "    predicted_url = label_encoder.inverse_transform([np.argmax(prediction)])\n",
        "    return predicted_url[0]\n",
        "\n",
        "# Тестирование модели\n",
        "test_ingredients = \"Сыр твердый,Чеснок,Яйцо куриное, Грейпфрут\"\n",
        "predicted_url = predict_recipe_url(test_ingredients)\n",
        "print('Ингредиенты:', test_ingredients)\n",
        "print('Предсказанный URL-адрес рецепта:', predicted_url)\n"
      ],
      "metadata": {
        "colab": {
          "base_uri": "https://localhost:8080/"
        },
        "id": "oDnDNxyKavXY",
        "outputId": "1efefc8b-2739-496f-f096-227220ca6a96"
      },
      "execution_count": null,
      "outputs": [
        {
          "output_type": "stream",
          "name": "stdout",
          "text": [
            "Epoch 1/20\n",
            "52/52 [==============================] - 50s 863ms/step - loss: 3.8091 - accuracy: 0.0703 - val_loss: 2.7257 - val_accuracy: 0.2111\n",
            "Epoch 2/20\n",
            "52/52 [==============================] - 41s 783ms/step - loss: 2.5137 - accuracy: 0.2667 - val_loss: 1.6716 - val_accuracy: 0.5134\n",
            "Epoch 3/20\n",
            "52/52 [==============================] - 41s 800ms/step - loss: 1.7422 - accuracy: 0.4811 - val_loss: 1.0808 - val_accuracy: 0.7427\n",
            "Epoch 4/20\n",
            "52/52 [==============================] - 42s 803ms/step - loss: 1.2318 - accuracy: 0.6383 - val_loss: 0.9673 - val_accuracy: 0.6813\n",
            "Epoch 5/20\n",
            "52/52 [==============================] - 41s 791ms/step - loss: 0.8688 - accuracy: 0.7548 - val_loss: 0.5705 - val_accuracy: 0.7914\n",
            "Epoch 6/20\n",
            "52/52 [==============================] - 41s 794ms/step - loss: 0.7514 - accuracy: 0.7764 - val_loss: 0.4791 - val_accuracy: 0.8394\n",
            "Epoch 7/20\n",
            "52/52 [==============================] - 41s 798ms/step - loss: 0.5733 - accuracy: 0.8251 - val_loss: 0.4237 - val_accuracy: 0.8637\n",
            "Epoch 8/20\n",
            "52/52 [==============================] - 43s 818ms/step - loss: 0.4790 - accuracy: 0.8494 - val_loss: 0.3501 - val_accuracy: 0.8668\n",
            "Epoch 9/20\n",
            "52/52 [==============================] - 44s 855ms/step - loss: 0.3886 - accuracy: 0.8706 - val_loss: 0.3026 - val_accuracy: 0.8650\n",
            "Epoch 10/20\n",
            "52/52 [==============================] - 42s 813ms/step - loss: 0.3385 - accuracy: 0.8800 - val_loss: 0.2731 - val_accuracy: 0.8777\n",
            "Epoch 11/20\n",
            "52/52 [==============================] - 59s 1s/step - loss: 0.3261 - accuracy: 0.8826 - val_loss: 0.2615 - val_accuracy: 0.8881\n",
            "Epoch 12/20\n",
            "52/52 [==============================] - 46s 896ms/step - loss: 0.9042 - accuracy: 0.7452 - val_loss: 0.5488 - val_accuracy: 0.7865\n",
            "Epoch 13/20\n",
            "52/52 [==============================] - 45s 862ms/step - loss: 0.4317 - accuracy: 0.8581 - val_loss: 0.2796 - val_accuracy: 0.8863\n",
            "Epoch 14/20\n",
            "52/52 [==============================] - 45s 867ms/step - loss: 0.3244 - accuracy: 0.8823 - val_loss: 0.2512 - val_accuracy: 0.8929\n",
            "Epoch 15/20\n",
            "52/52 [==============================] - 45s 859ms/step - loss: 0.2883 - accuracy: 0.8893 - val_loss: 0.2195 - val_accuracy: 0.8972\n",
            "Epoch 16/20\n",
            "52/52 [==============================] - 42s 808ms/step - loss: 0.2615 - accuracy: 0.8995 - val_loss: 0.2113 - val_accuracy: 0.9027\n",
            "Epoch 17/20\n",
            "52/52 [==============================] - 42s 810ms/step - loss: 0.2328 - accuracy: 0.9057 - val_loss: 0.1997 - val_accuracy: 0.9015\n",
            "Epoch 18/20\n",
            "52/52 [==============================] - 44s 858ms/step - loss: 0.2301 - accuracy: 0.9030 - val_loss: 0.1882 - val_accuracy: 0.9075\n",
            "Epoch 19/20\n",
            "52/52 [==============================] - 43s 827ms/step - loss: 0.2103 - accuracy: 0.9122 - val_loss: 0.1780 - val_accuracy: 0.9100\n",
            "Epoch 20/20\n",
            "52/52 [==============================] - 45s 872ms/step - loss: 0.1985 - accuracy: 0.9122 - val_loss: 0.1736 - val_accuracy: 0.9130\n",
            "1/1 [==============================] - 1s 1s/step\n",
            "Ингредиенты: Сыр твердый,Чеснок,Яйцо куриное, Грейпфрут\n",
            "Предсказанный URL-адрес рецепта: https://www.povarenok.ru/recipes/show/81855/\n"
          ]
        }
      ]
    },
    {
      "cell_type": "code",
      "source": [
        "#model.save('model.h5')\n",
        "model.save('model.keras')\n",
        "with open('max_len_ingredients.pkl', 'wb') as f:\n",
        "    pickle.dump(max_len_ingredients, f)"
      ],
      "metadata": {
        "id": "79p5loCOXEAl",
        "colab": {
          "base_uri": "https://localhost:8080/"
        },
        "outputId": "b29773c8-3b80-48c6-a5f6-4227f60d510a"
      },
      "execution_count": null,
      "outputs": [
        {
          "output_type": "stream",
          "name": "stderr",
          "text": [
            "/usr/local/lib/python3.10/dist-packages/keras/src/engine/training.py:3103: UserWarning: You are saving your model as an HDF5 file via `model.save()`. This file format is considered legacy. We recommend using instead the native Keras format, e.g. `model.save('my_model.keras')`.\n",
            "  saving_api.save_model(\n"
          ]
        }
      ]
    },
    {
      "cell_type": "code",
      "source": [
        "\n",
        "# Тестирование модели\n",
        "test_ingredients = \"Молоко, Сахар\"\n",
        "predicted_url = predict_recipe_url(test_ingredients)\n",
        "print('Ингредиенты:', test_ingredients)\n",
        "print('Предсказанный URL-адрес рецепта:', predicted_url)\n"
      ],
      "metadata": {
        "colab": {
          "base_uri": "https://localhost:8080/"
        },
        "id": "HXcQCuANrL9e",
        "outputId": "e8bfdc65-6dd9-4519-cfb9-5fc3d645d69e"
      },
      "execution_count": null,
      "outputs": [
        {
          "output_type": "stream",
          "name": "stdout",
          "text": [
            "1/1 [==============================] - 0s 38ms/step\n",
            "Ингредиенты: Молоко, Сахар\n",
            "Предсказанный URL-адрес рецепта: https://www.povarenok.ru/recipes/show/54737/\n"
          ]
        }
      ]
    }
  ]
}
