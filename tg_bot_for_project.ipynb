{
  "nbformat": 4,
  "nbformat_minor": 0,
  "metadata": {
    "colab": {
      "provenance": [],
      "authorship_tag": "ABX9TyN1bRIAAT7UK/puWXGCMxxc"
    },
    "kernelspec": {
      "name": "python3",
      "display_name": "Python 3"
    },
    "language_info": {
      "name": "python"
    }
  },
  "cells": [
    {
      "cell_type": "code",
      "execution_count": null,
      "metadata": {
        "colab": {
          "base_uri": "https://localhost:8080/"
        },
        "id": "yea2l5xDGApi",
        "outputId": "c89386c6-ed3d-4af6-c536-20de9499bbc4"
      },
      "outputs": [
        {
          "output_type": "stream",
          "name": "stdout",
          "text": [
            "Collecting telebot\n",
            "  Downloading telebot-0.0.5-py3-none-any.whl (4.8 kB)\n",
            "Collecting pyTelegramBotAPI (from telebot)\n",
            "  Downloading pytelegrambotapi-4.18.1-py3-none-any.whl (242 kB)\n",
            "\u001b[2K     \u001b[90m━━━━━━━━━━━━━━━━━━━━━━━━━━━━━━━━━━━━━━━━\u001b[0m \u001b[32m242.9/242.9 kB\u001b[0m \u001b[31m4.0 MB/s\u001b[0m eta \u001b[36m0:00:00\u001b[0m\n",
            "\u001b[?25hRequirement already satisfied: requests in /usr/local/lib/python3.10/dist-packages (from telebot) (2.31.0)\n",
            "Requirement already satisfied: charset-normalizer<4,>=2 in /usr/local/lib/python3.10/dist-packages (from requests->telebot) (3.3.2)\n",
            "Requirement already satisfied: idna<4,>=2.5 in /usr/local/lib/python3.10/dist-packages (from requests->telebot) (3.7)\n",
            "Requirement already satisfied: urllib3<3,>=1.21.1 in /usr/local/lib/python3.10/dist-packages (from requests->telebot) (2.0.7)\n",
            "Requirement already satisfied: certifi>=2017.4.17 in /usr/local/lib/python3.10/dist-packages (from requests->telebot) (2024.2.2)\n",
            "Installing collected packages: pyTelegramBotAPI, telebot\n",
            "Successfully installed pyTelegramBotAPI-4.18.1 telebot-0.0.5\n"
          ]
        }
      ],
      "source": [
        "!pip install telebot"
      ]
    },
    {
      "cell_type": "code",
      "source": [
        "import telebot\n",
        "from telebot import types\n",
        "from tensorflow.keras.models import load_model\n",
        "import tensorflow as tf\n",
        "from tensorflow.keras.preprocessing.sequence import pad_sequences\n",
        "import numpy as np\n",
        "import pickle\n",
        "import pandas as pd\n",
        "from sklearn.model_selection import train_test_split\n",
        "from tensorflow.keras.preprocessing.text import Tokenizer\n",
        "from tensorflow.keras.preprocessing.sequence import pad_sequences\n",
        "from tensorflow.keras.models import Sequential\n",
        "from tensorflow.keras.layers import Embedding, LSTM, Dense, GlobalAveragePooling1D, Dropout\n",
        "from sklearn.preprocessing import LabelEncoder\n",
        "\n",
        "bot = telebot.TeleBot('6666746743:AAEn47TK-QVf2bqAHwvT0rr5aORzCdQQTJI')\n",
        "\n",
        "markup = types.ReplyKeyboardMarkup(row_width=2)\n",
        "itembtn1 = types.KeyboardButton('/recipes')\n",
        "itembtn2 = types.KeyboardButton('/about_me')\n",
        "markup.add(itembtn1, itembtn2)\n",
        "\n",
        "#model = load_model('model.h5')\n",
        "model=load_model('model.keras')\n",
        "max_len_ingredients = pickle.load(open('max_len_ingredients.pkl', 'rb'))\n",
        "tokenizer = pickle.load(open('tokenizer.pkl', 'rb'))\n",
        "label_encoder = pickle.load(open('label_encoder.pkl', 'rb'))\n",
        "#max_len_ingredients = 0\n",
        "@bot.message_handler(commands=['start'])\n",
        "def main(message):\n",
        "    bot.send_message(message.chat.id,'Привет, введите /recipes, для начала работы.')\n",
        "\n",
        "\n",
        "@bot.message_handler(commands=['recipes'])\n",
        "def main(message):\n",
        "    bot.send_message(message.chat.id,f'Привет, {message.from_user.first_name}. Введите ингредиенты через запятую:')\n",
        "    bot.register_next_step_handler(message, process_ingredients)\n",
        "def process_ingredients(message):\n",
        "    ingredients = message.text\n",
        "    max_len_ingredients = len(ingredients)\n",
        "    predicted_url = predict_recipe_url(ingredients)\n",
        "    bot.send_message(message.chat.id, 'Ингредиенты: ' + ingredients)\n",
        "    bot.send_message(message.chat.id, 'Ваш рецепт: ' + predicted_url)\n",
        "    bot.send_message(message.chat.id, f'{message.from_user.first_name}, удачи в приготовлении изысканного блюда.', reply_markup=markup)\n",
        "@bot.message_handler(commands=['about_me'])\n",
        "def main(message):\n",
        "  bot.send_message(message.chat.id, f'Нажмите или напишите /recipes, чтобы увидеть мой функционал.')\n",
        "\n",
        "\n",
        "def predict_recipe_url(ingredients):\n",
        "    ingredients_seq = tokenizer.texts_to_sequences([ingredients])\n",
        "    ingredients_seq = pad_sequences(ingredients_seq, maxlen=max_len_ingredients, padding='post')\n",
        "    prediction = model.predict(ingredients_seq)\n",
        "    predicted_url = label_encoder.inverse_transform([np.argmax(prediction)])\n",
        "    return predicted_url[0]\n",
        "\n",
        "bot.polling(none_stop=True)"
      ],
      "metadata": {
        "colab": {
          "base_uri": "https://localhost:8080/"
        },
        "id": "TzQTo4PeGDBp",
        "outputId": "469f3b93-b4cc-49e5-9d8d-7e5b08d90945"
      },
      "execution_count": null,
      "outputs": [
        {
          "output_type": "stream",
          "name": "stdout",
          "text": [
            "1/1 [==============================] - 1s 814ms/step\n",
            "1/1 [==============================] - 0s 32ms/step\n"
          ]
        }
      ]
    },
    {
      "cell_type": "code",
      "source": [],
      "metadata": {
        "id": "zz1uFlz3SLAR"
      },
      "execution_count": null,
      "outputs": []
    }
  ]
}